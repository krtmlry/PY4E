{
 "cells": [
  {
   "cell_type": "markdown",
   "id": "974e0bad-af22-4f7a-83d9-c27681311458",
   "metadata": {},
   "source": [
    "# Instructions\n",
    "\n",
    "Finding Numbers in a Haystack\r\n",
    "\r\n",
    "In this assignment you will read through and parse a file with text and numbers. You will extract all the numbers in the file and compute the sum of the numbers.\r\n",
    "\r\n",
    "Data Files\r\n",
    "We provide two files for this assignment. One is a sample file where we give you the sum for your testing and the other is the actual data you need to process for the assignment.\r\n",
    "\r\n",
    "Sample data: http://py4e-data.dr-chuck.net/regex_sum_42.txt (There are 90 values with a sum=445833)\r\n",
    "Actual data: http://py4e-data.dr-chuck.net/regex_sum_1724749.txt (There are 96 values and the sum ends with 221)\r\n",
    "These links open in a new window. Make sure to save the file into the same folder as you will be writing your Python program. Note: Each student will have a distinct data file for the assignment - so only use your own data file for analysis.\r\n",
    "Data Format\r\n",
    "The file contains much of the text from the introduction of the textbook except that random numbers are inserted throughout the text. Here is a sample of the output you might see:\r\n",
    "\r\n",
    "Why should you learn to write programs? 7746\r\n",
    "12 1929 8827\r\n",
    "Writing programs (or programming) is a very creative\r\n",
    "7 and rewarding activity.  You can write programs for\r\n",
    "many reasons, ranging from making your living to solving\r\n",
    "8837 a difficult data analysis problem to having fun to helping 128\r\n",
    "someone else solve a problem.  This book assumes that\r\n",
    "everyone needs to know how to program ...\r\n",
    "The sum for the sample text above is 27486. The numbers can appear anywhere in the line. There can be any number of numbers in each line (including none).\r\n",
    "Handling The Data\r\n",
    "The basic outline of this problem is to read the file, look for integers using the re.findall(), looking for a regular expression of '[0-9]+' and then converting the extracted strings to integers and summing up the integers."
   ]
  },
  {
   "cell_type": "markdown",
   "id": "e8159b04-b6b4-4c77-b08d-bd2b972846ed",
   "metadata": {},
   "source": [
    "### Answer ends with: 221"
   ]
  },
  {
   "cell_type": "code",
   "execution_count": null,
   "id": "ff1a37fe-e0bc-437b-846b-da83e211119d",
   "metadata": {},
   "outputs": [],
   "source": [
    "import re\n",
    "file = open(\"words.txt\")\n",
    "nums = list()\n",
    "\n",
    "for line in file:\n",
    "    number = re.findall('[0-9]+',line) #['7078', '5862', '381']\n",
    "    if len(number) >= 1: #number = ['7078', '5862', '381'] = len(3) > 1 = True \n",
    "        num = [int(digit) for digit in number] #list comprehension => loops through each item in the list and converts\n",
    "        #into list => ['7078', '5862', '381'] to [7078,5862,381]\n",
    "        nums.extend(num) #adds list items into nums list.\n",
    "    else:\n",
    "        continue\n",
    "\n",
    "print(sum(nums))\n",
    "# print(nums)"
   ]
  }
 ],
 "metadata": {
  "kernelspec": {
   "display_name": "Python 3 (ipykernel)",
   "language": "python",
   "name": "python3"
  },
  "language_info": {
   "codemirror_mode": {
    "name": "ipython",
    "version": 3
   },
   "file_extension": ".py",
   "mimetype": "text/x-python",
   "name": "python",
   "nbconvert_exporter": "python",
   "pygments_lexer": "ipython3",
   "version": "3.8.10"
  }
 },
 "nbformat": 4,
 "nbformat_minor": 5
}
