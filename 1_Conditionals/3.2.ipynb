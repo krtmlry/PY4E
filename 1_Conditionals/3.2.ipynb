{
 "cells": [
  {
   "cell_type": "markdown",
   "id": "df25a5d5-f74b-4cd6-a1d0-bece0f48a9c5",
   "metadata": {},
   "source": [
    "# Instructions\n",
    "3.2 Write a program to prompt for a score between 0.0 and 1.0. If the score is out of range, print an error. If the score is between 0.0 and 1.0, print a grade using the following table:\r\n",
    "Score Grade\r\n",
    "\r\n",
    "> = 0.9 A\r\n",
    "= 0.8 B\r\n",
    "= 0.7 C\r\n",
    "= 0.6 D\r\n",
    "< 0.6 F\r\n",
    "If the user enters a value out of range, print a suitable error message and exit. For the test, enter a score of 0.85.\r\n",
    ">"
   ]
  },
  {
   "cell_type": "code",
   "execution_count": null,
   "id": "a30ea4c8-7342-4f55-8558-ef4ce8bd8cca",
   "metadata": {},
   "outputs": [],
   "source": [
    "score = float(input(\"Enter Score: \"))\n",
    "\n",
    "if score >= 0.1 and score <= 1.0:\n",
    "    if score >= 1:\n",
    "        print(\"EXCELLENT\")\n",
    "    elif score >= 0.9:\n",
    "        print(\"A\")\n",
    "    elif score >= 0.8:\n",
    "        print(\"B\")\n",
    "    elif score >= 0.7:\n",
    "        print(\"C\")\n",
    "    elif score >= 0.6:\n",
    "        print(\"D\")\n",
    "    elif score < 0.6:\n",
    "        print(\"F\")\n",
    "else:\n",
    "    print(\"Please enter a value from 0.1 - 1.0\")"
   ]
  }
 ],
 "metadata": {
  "kernelspec": {
   "display_name": "Python 3 (ipykernel)",
   "language": "python",
   "name": "python3"
  },
  "language_info": {
   "codemirror_mode": {
    "name": "ipython",
    "version": 3
   },
   "file_extension": ".py",
   "mimetype": "text/x-python",
   "name": "python",
   "nbconvert_exporter": "python",
   "pygments_lexer": "ipython3",
   "version": "3.8.10"
  }
 },
 "nbformat": 4,
 "nbformat_minor": 5
}
