{
 "cells": [
  {
   "cell_type": "markdown",
   "id": "b84d31c0-dfdc-4f34-98e2-443774c765df",
   "metadata": {},
   "source": [
    "# Instructions\n",
    "3.1 Write a program to prompt the user for hours and rate per hour using input to compute gross pay.\r\n",
    "Pay the hourly rate for the hours up to 40 and 1.5 times the hourly rate for all hours worked above 40 hours.\r\n",
    "Use 45 hours and a rate of 10.50 per hour to test the program (the pay should be 498.75).\r\n",
    "You should use input to read a string and float() to convert the string to a number.\r\n",
    "Do not worry about error checking the user input - assume the user types numbers properly."
   ]
  },
  {
   "cell_type": "markdown",
   "id": "9db274de-8a4f-4003-a403-5b3ea26741be",
   "metadata": {},
   "source": [
    "### Note:\n",
    "In the solution I've set the value for normal rate to avoid user input"
   ]
  },
  {
   "cell_type": "code",
   "execution_count": null,
   "id": "2211b13c-3ac7-41e1-952b-a01677b3ad8c",
   "metadata": {},
   "outputs": [],
   "source": [
    "hrs = float(input(\"Total working hours:\"))\n",
    "# rate = float(input(\"Enter Rate: \"))\n",
    "\n",
    "normal_rate = 10.5\n",
    "ot_rate = 1.5 #$1.5 dollars per hour\n",
    "\n",
    "if hrs > 40.0:\n",
    "    \n",
    "    standard_rate = 40 * normal_rate # get standard_rate : 40hrs * normal_rate\n",
    "    ot_pay = (hrs-40) * (normal_rate * ot_rate) # ot_pay = total_ot_hrs * ( normal_rate * ot_rate)\n",
    "    total_pay = standard_rate + ot_pay\n",
    "\n",
    "    print('Standard rate'.ljust(20),': $', standard_rate)\n",
    "    print('Total OT'.ljust(20),': $', ot_pay)\n",
    "    print('Total pay(OT rate)'.ljust(20),': $',total_pay)\n",
    "\n",
    "else:\n",
    "    print('Total pay(Standard rate):'.ljust(20),'$',hrs * normal_rate)"
   ]
  }
 ],
 "metadata": {
  "kernelspec": {
   "display_name": "Python 3 (ipykernel)",
   "language": "python",
   "name": "python3"
  },
  "language_info": {
   "codemirror_mode": {
    "name": "ipython",
    "version": 3
   },
   "file_extension": ".py",
   "mimetype": "text/x-python",
   "name": "python",
   "nbconvert_exporter": "python",
   "pygments_lexer": "ipython3",
   "version": "3.8.10"
  }
 },
 "nbformat": 4,
 "nbformat_minor": 5
}
