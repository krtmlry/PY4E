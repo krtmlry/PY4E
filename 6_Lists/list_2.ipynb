{
 "cells": [
  {
   "cell_type": "markdown",
   "id": "9f0edd74-77dd-4059-860b-fe3fd72ad8a1",
   "metadata": {},
   "source": [
    "# Instructions\n",
    "\n",
    "Open the file mbox-short.txt and read it line by line.\n",
    "When you find a line that starts with 'From ' like the following line:\n",
    "From [stephen.marquard@uct.ac.za](mailto:stephen.marquard@uct.ac.za) Sat Jan  5 09:14:16 2008\n",
    "You will parse the From line using split() and print out the second word in the line (i.e. the entire address of the person who sent the message). Then print out a count at the end.\n",
    "Hint: make sure not to include the lines that start with 'From:'. Also look at the last line of the sample output to see how to print the count.\n",
    "\n",
    "You can download the sample data at http://www.py4e.com/code3/mbox-short.txt"
   ]
  },
  {
   "cell_type": "markdown",
   "id": "1fb46182-aedd-40a0-be88-876572862216",
   "metadata": {},
   "source": [
    "### Solution 1"
   ]
  },
  {
   "cell_type": "code",
   "execution_count": null,
   "id": "5f0152dd-e87c-4650-aebe-86b08b6f37fc",
   "metadata": {},
   "outputs": [],
   "source": [
    "# file_name = open(input(\"Enter file name: \"))\n",
    "file_name = open(\"mbox-short.txt\")\n",
    "line_count = 0\n",
    "\n",
    "for line in file_name:\n",
    "    if line.startswith('From '):\n",
    "        line_count += 1\n",
    "        line = line.rstrip()\n",
    "        split_line = line.split()\n",
    "        # print(line)\n",
    "        #print(split_line[1])\n",
    "        \n",
    "print(f\"There were {line_count} lines in the file with 'From' as the first word\")"
   ]
  },
  {
   "cell_type": "markdown",
   "id": "675b85df-1763-4b68-8f94-efc5d871df70",
   "metadata": {},
   "source": [
    "### Solution 2: Includes lines that does not start with ‘From’"
   ]
  },
  {
   "cell_type": "code",
   "execution_count": 4,
   "id": "c60b32dd-fc1e-471e-a57e-3ad7fbcc3759",
   "metadata": {},
   "outputs": [
    {
     "name": "stdout",
     "output_type": "stream",
     "text": [
      "There were 1882 lines in the file that does not start with 'From' as the first word\n",
      "There were 27 lines in the file with 'From' as the first word\n"
     ]
    }
   ],
   "source": [
    "# file_name = open(input(\"Enter file name: \"))\n",
    "file_name = open(\"mbox-short.txt\")\n",
    "line_count = 0\n",
    "not_line = 0\n",
    "for line in file_name:   \n",
    "    if line.startswith('From '):\n",
    "        line_count += 1 #will count how many times the loop happened.\n",
    "        line = line.strip() #remove white spaces(enter key spaces)\n",
    "        split_line = line.split() #we use this to convert each line into a list where each word is an item.\n",
    "        #print(split_line[1])  #since there is a split() function we can access a single item using its index[]\n",
    "    elif not line.startswith('From '):\n",
    "        not_line += 1\n",
    "\n",
    "print(f\"There were {not_line} lines in the file that does not start with 'From' as the first word\")\n",
    "print(f\"There were {line_count} lines in the file with 'From' as the first word\")"
   ]
  },
  {
   "cell_type": "code",
   "execution_count": null,
   "id": "8db11c4a-67b1-4932-a2cc-09ba642c22c7",
   "metadata": {},
   "outputs": [],
   "source": []
  }
 ],
 "metadata": {
  "kernelspec": {
   "display_name": "Python 3 (ipykernel)",
   "language": "python",
   "name": "python3"
  },
  "language_info": {
   "codemirror_mode": {
    "name": "ipython",
    "version": 3
   },
   "file_extension": ".py",
   "mimetype": "text/x-python",
   "name": "python",
   "nbconvert_exporter": "python",
   "pygments_lexer": "ipython3",
   "version": "3.8.10"
  }
 },
 "nbformat": 4,
 "nbformat_minor": 5
}
