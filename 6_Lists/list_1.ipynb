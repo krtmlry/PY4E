{
 "cells": [
  {
   "cell_type": "markdown",
   "id": "3266c24f-7053-46a7-af5d-2ccfad7b9e07",
   "metadata": {},
   "source": [
    "# Instructions\r\n",
    "\r\n",
    "8.4 Open the file romeo.txt and read it line by line. For each line, split the line into a list of words using the split() method. The program should build a list of words. For each word on each line check to see if the word is already in the list and if not append it to the list. When the program completes, sort and print the resulting words in python sort() order as shown in the desired output.\r\n",
    "You can download the sample data at http://www.py4e.com/code3/romeo.txt"
   ]
  },
  {
   "cell_type": "code",
   "execution_count": 1,
   "id": "b6924f47-06ca-4158-ae11-2b949b47c6b4",
   "metadata": {},
   "outputs": [
    {
     "name": "stdout",
     "output_type": "stream",
     "text": [
      "['Arise', 'But', 'It', 'Juliet', 'Who', 'already', 'and', 'breaks', 'east', 'envious', 'fair', 'grief', 'is', 'kill', 'light', 'moon', 'pale', 'sick', 'soft', 'sun', 'the', 'through', 'what', 'window', 'with', 'yonder']\n"
     ]
    }
   ],
   "source": [
    "#file_name = open(input(\"Enter file name: \"))\n",
    "file_name = open(\"romeo.txt\")\n",
    "file = file_name.read()\n",
    "\n",
    "unsorted_words = file.split( )\n",
    "\n",
    "new_words = []\n",
    "\n",
    "for words in unsorted_words:\n",
    "    if words not in new_words:\n",
    "        new_words.append(words)\n",
    "        new_words.sort()\n",
    "print(new_words)"
   ]
  },
  {
   "cell_type": "code",
   "execution_count": null,
   "id": "ed0cfa4c-f090-4621-984f-1d5046f41479",
   "metadata": {},
   "outputs": [],
   "source": []
  }
 ],
 "metadata": {
  "kernelspec": {
   "display_name": "Python 3 (ipykernel)",
   "language": "python",
   "name": "python3"
  },
  "language_info": {
   "codemirror_mode": {
    "name": "ipython",
    "version": 3
   },
   "file_extension": ".py",
   "mimetype": "text/x-python",
   "name": "python",
   "nbconvert_exporter": "python",
   "pygments_lexer": "ipython3",
   "version": "3.8.10"
  }
 },
 "nbformat": 4,
 "nbformat_minor": 5
}
