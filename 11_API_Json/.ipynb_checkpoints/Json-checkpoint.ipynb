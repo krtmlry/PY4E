{
 "cells": [
  {
   "cell_type": "markdown",
   "id": "fb906a37-feb0-4631-a4b9-091c3584bd1e",
   "metadata": {},
   "source": [
    "# Instructions\r\n",
    "\r\n",
    "**Extracting Data from JSON**\r\n",
    "\r\n",
    "In this assignment you will write a Python program somewhat similar to [http://www.py4e.com/code3/json2.py](https://www.py4e.com/code3/json2.py?PHPSESSID=2a2478830dc08e5e4adef86d901593d8). The program will prompt for a URL, read the JSON data from that URL using **urllib** and then parse and extract the comment counts from the JSON data, compute the sum of the numbers in the file and enter the sum below:\r\n",
    "\r\n",
    "We provide two files for this assignment. One is a sample file where we give you the sum for your testing and the other is the actual data you need to process for the assignment.\r\n",
    "\r\n",
    "- Sample data: http://py4e-data.dr-chuck.net/comments_42.json (Sum=2553)\r\n",
    "- Actual data: http://py4e-data.dr-chuck.net/comments_1724754.json (Sum ends with 30)\r\n",
    "\r\n",
    "You do not need to save these files to your folder since your program will read the data directly from the URL.\r\n",
    "\r\n",
    "**Note:**\r\n",
    "\r\n",
    "Each student will have a distinct data url for the assignment - so only use your own data url for analysis.\r\n",
    "\r\n",
    "**Data Format**\r\n",
    "\r\n",
    "The data consists of a number of names and comment counts in JSON as follows:"
   ]
  },
  {
   "cell_type": "raw",
   "id": "c21306d6-bdd7-4946-9e92-4ad8b48e7917",
   "metadata": {},
   "source": [
    "{\n",
    "  comments: [\n",
    "    {\n",
    "      name: \"Matthias\"\n",
    "      count: 97\n",
    "    },\n",
    "    {\n",
    "      name: \"Geomer\"\n",
    "      count: 97\n",
    "    }\n",
    "  ]\n",
    "}"
   ]
  },
  {
   "cell_type": "markdown",
   "id": "e8cb7c40-0998-490d-9a2f-a79db4f60cd9",
   "metadata": {},
   "source": [
    "The closest sample code that shows how to parse JSON and extract a list is json2.py. You might also want to look at geoxml.py to see how to prompt for a URL and retrieve data from a URL."
   ]
  },
  {
   "cell_type": "markdown",
   "id": "bd6314b4-2f7d-47ad-a613-561b0c9148b1",
   "metadata": {},
   "source": [
    "Sample Execution"
   ]
  },
  {
   "cell_type": "raw",
   "id": "77029aa6-d3ab-4c14-a192-d91d6f7d4f96",
   "metadata": {},
   "source": [
    "$ python3 solution.py\n",
    "Enter location: http://py4e-data.dr-chuck.net/comments_42.json\n",
    "Retrieving http://py4e-data.dr-chuck.net/comments_42.json\n",
    "Retrieved 2733 characters\n",
    "Count: 50\n",
    "Sum: 2..."
   ]
  },
  {
   "cell_type": "markdown",
   "id": "eaf1c3ce-06d2-4819-b3af-64ce9834ba63",
   "metadata": {},
   "source": [
    "### Sum: (ends with 30)"
   ]
  },
  {
   "cell_type": "markdown",
   "id": "f5dfa982-8d72-4dec-9b59-60e8b3c221da",
   "metadata": {},
   "source": [
    "### Solution 1: using requests"
   ]
  },
  {
   "cell_type": "code",
   "execution_count": null,
   "id": "1a9d83c3-8d65-4403-9500-beb2ed6beceb",
   "metadata": {},
   "outputs": [],
   "source": [
    "import json\n",
    "import requests\n",
    "\n",
    "url = 'https://py4e-data.dr-chuck.net/comments_1724754.json'\n",
    "\n",
    "req = requests.get(url)\n",
    "res = req.text\n",
    "\n",
    "char_count = len(res)\n",
    "\n",
    "data = json.loads(req.text) #convert json to python object using json.loads()\n",
    "\n",
    "sum_list = [item['count'] for item in data['comments']]\n",
    "\n",
    "print('Retrieving', url)\n",
    "print('Retrieved', char_count, 'characters')\n",
    "print('Count:', len(sum_list))\n",
    "print('Sum:', sum(sum_list))"
   ]
  },
  {
   "cell_type": "markdown",
   "id": "3580b573-4aeb-45d9-be2d-b76d6c9953ed",
   "metadata": {},
   "source": [
    "### Solution 2: Using urllib"
   ]
  },
  {
   "cell_type": "code",
   "execution_count": null,
   "id": "0b96b27a-21f1-46eb-a28b-b19450e959d0",
   "metadata": {},
   "outputs": [],
   "source": [
    "import urllib.request, urllib.parse, urllib.error\n",
    "import json\n",
    "\n",
    "url = 'https://py4e-data.dr-chuck.net/comments_1724754.json'\n",
    "\n",
    "req = urllib.request.urlopen(url).read().decode() #covert bytes into string using decode()\n",
    "\n",
    "char_count = len(req) #count characters using len() func\n",
    "\n",
    "data = json.loads(req) #make json into python object\n",
    "\n",
    "sum_list = [item['count'] for item in data['comments']]\n",
    "print('Retrieving', url)\n",
    "print('Retrieved', char_count, 'characters')\n",
    "print('Count:', len(sum_list))\n",
    "print('Sum:', sum(sum_list))"
   ]
  },
  {
   "cell_type": "code",
   "execution_count": null,
   "id": "d4c49939-20bf-4674-a6a4-e0fbe0cd1cb8",
   "metadata": {},
   "outputs": [],
   "source": []
  }
 ],
 "metadata": {
  "kernelspec": {
   "display_name": "Python 3 (ipykernel)",
   "language": "python",
   "name": "python3"
  },
  "language_info": {
   "codemirror_mode": {
    "name": "ipython",
    "version": 3
   },
   "file_extension": ".py",
   "mimetype": "text/x-python",
   "name": "python",
   "nbconvert_exporter": "python",
   "pygments_lexer": "ipython3",
   "version": "3.8.10"
  }
 },
 "nbformat": 4,
 "nbformat_minor": 5
}
