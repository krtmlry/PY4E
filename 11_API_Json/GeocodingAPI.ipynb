{
 "cells": [
  {
   "cell_type": "markdown",
   "id": "708e5e90-5ae5-40cd-9559-f3b5c36e9956",
   "metadata": {},
   "source": [
    "# Instructions\r\n",
    "\r\n",
    "Calling a JSON API\r\n",
    "\r\n",
    "In this assignment you will write a Python program somewhat similar to http://www.py4e.com/code3/geojson.py. The program will prompt for a location, contact a web service and retrieve JSON for the web service and parse that data, and retrieve the first place_id from the JSON. A place ID is a textual identifier that uniquely identifies a place as within Google Maps.\r\n",
    "API End Points\r\n",
    "\r\n",
    "To complete this assignment, you should use this API endpoint that has a static subset of the Google Data:\r\n",
    "\r\n",
    "http://py4e-data.dr-chuck.net/json?\r\n",
    "This API uses the same parameter (address) as the Google API. This API also has no rate limit so you can test as often as you like. If you visit the URL with no parameters, you get \"No address...\" response.\r\n",
    "To call the API, you need to include a key= parameter and provide the address that you are requesting as the address= parameter that is properly URL encoded using the urllib.parse.urlencode() function as shown in http://www.py4e.com/code3/geojson.py\r\n",
    "\r\n",
    "Make sure to check that your code is using the API endpoint as shown above. You will get different results from the geojson and json endpoints so make sure you are using the same end point as this autograder is using.\r\n",
    "\r\n",
    "Test Data / Sample Execution\r\n",
    "\r\n",
    "You can test to see if your program is working with a location of \"South Federal University\" which will have a place_id of \"ChIJNeHD4p-540AR2Q0_ZjwmKJ8\".\r\n",
    "\r\n",
    "### Turn in\r\n",
    "\r\n",
    "Please run your program to find the place_id for this location:\r\n",
    "\r\n",
    "\"Indian Institute of Technology\"\r\n",
    "Make sure to enter the name and case exactly as above and enter the place_id and your Python code below. Hint: The first seven characters of the place_id are \"ChIJkbe ...\"\r\n",
    "Make sure to retreive the data from the URL specified above and not the normal Google API. Your program should work with the Google API - but the place_id may not match for this assignment."
   ]
  },
  {
   "cell_type": "code",
   "execution_count": null,
   "id": "44cab705-8b36-4540-ac3a-e8ea5e55dda0",
   "metadata": {},
   "outputs": [],
   "source": [
    "import urllib.request, urllib.parse, urllib.error\n",
    "from urllib.parse import urlencode\n",
    "import json\n",
    "\n",
    "service_url = 'http://py4e-data.dr-chuck.net/json?'\n",
    "param = {'key':42, 'address':'Indian Institute of Technology'}\n",
    "\n",
    "url = service_url + urlencode(param)\n",
    "req = urllib.request.urlopen(url).read().decode('utf-8')\n",
    "char_count = len(req)\n",
    "data = json.loads(req)\n",
    "placeID = data[\"results\"][0][\"place_id\"]\n",
    "\n",
    "print('Retrieving:', url)\n",
    "print('Retrieved:', char_count)\n",
    "print('PlaceID:',placeID)"
   ]
  }
 ],
 "metadata": {
  "kernelspec": {
   "display_name": "Python 3 (ipykernel)",
   "language": "python",
   "name": "python3"
  },
  "language_info": {
   "codemirror_mode": {
    "name": "ipython",
    "version": 3
   },
   "file_extension": ".py",
   "mimetype": "text/x-python",
   "name": "python",
   "nbconvert_exporter": "python",
   "pygments_lexer": "ipython3",
   "version": "3.8.10"
  }
 },
 "nbformat": 4,
 "nbformat_minor": 5
}
