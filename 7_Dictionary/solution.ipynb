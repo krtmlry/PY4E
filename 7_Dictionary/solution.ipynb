{
 "cells": [
  {
   "cell_type": "markdown",
   "id": "1eb5b7f3-224d-4c5f-8321-d505ec430f11",
   "metadata": {},
   "source": [
    "# Instructions\r\n",
    "4 Write a program to read through the mbox-short.txt and figure out who has sent the greatest number of mail messages.\r\n",
    "The program looks for 'From ' lines and takes the second word of those lines as the person who sent the mail.\r\n",
    "The program creates a Python dictionary that maps the sender's mail address to a count of the number of times they appear in the file.\r\n",
    "After the dictionary is produced, the program reads through the dictionary using a maximum loop to find the most prolific committer."
   ]
  },
  {
   "cell_type": "code",
   "execution_count": 5,
   "id": "008401c7-f6e7-4b76-bc3d-1be2a3342b58",
   "metadata": {},
   "outputs": [
    {
     "name": "stdout",
     "output_type": "stream",
     "text": [
      "cwen@iupui.edu 5\n",
      "5\n",
      "{'stephen.marquard@uct.ac.za': 2, 'louis@media.berkeley.edu': 3, 'zqian@umich.edu': 4, 'rjlowe@iupui.edu': 2, 'cwen@iupui.edu': 5, 'gsilver@umich.edu': 3, 'wagnermr@iupui.edu': 1, 'antranig@caret.cam.ac.uk': 1, 'gopal.ramasammycook@gmail.com': 1, 'david.horwitz@uct.ac.za': 4, 'ray@media.berkeley.edu': 1}\n"
     ]
    }
   ],
   "source": [
    "# file = open(input(\"Enter file name: \"))\n",
    "\n",
    "file = open(\"mbox-short.txt\")\n",
    "emails = {}\n",
    "\n",
    "#iterate through each line of the file\n",
    "for line in file:\n",
    "    if line.startswith('From '): #From stephen.marquard@uct.ac.za Sat Jan  5 09:14:16 2008\n",
    "        value = line.split()[1] #get email by using split()[index]\n",
    "        emails[value] = emails.get(value, 0) + 1 #dict[iterator] = dict.get(iterator, 0) 0 is default and + 1 is increment\n",
    "\n",
    "max_sender = max(emails, key=emails.get) #get mail of max sender. max(dict, key=dict.get)\n",
    "max_value = emails[max_sender] #get max number\n",
    "max_sender1 = max(emails.values())\n",
    "\n",
    "print(f\"{max_sender} {max_value}\")\n",
    "print(max_sender1)\n",
    "# print(emails)"
   ]
  },
  {
   "cell_type": "code",
   "execution_count": null,
   "id": "4b905e96-3500-48bd-99fb-75dfa3e60811",
   "metadata": {},
   "outputs": [],
   "source": []
  }
 ],
 "metadata": {
  "kernelspec": {
   "display_name": "Python 3 (ipykernel)",
   "language": "python",
   "name": "python3"
  },
  "language_info": {
   "codemirror_mode": {
    "name": "ipython",
    "version": 3
   },
   "file_extension": ".py",
   "mimetype": "text/x-python",
   "name": "python",
   "nbconvert_exporter": "python",
   "pygments_lexer": "ipython3",
   "version": "3.8.10"
  }
 },
 "nbformat": 4,
 "nbformat_minor": 5
}
