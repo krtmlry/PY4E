{
 "cells": [
  {
   "cell_type": "markdown",
   "id": "b648c114-9643-460b-b5eb-6cd5a4401a4c",
   "metadata": {},
   "source": [
    "# Instructions\n",
    "Write code using find() and string slicing to extract the number at the end of the line below. Convert the extracted value to a floating point number and print it out."
   ]
  },
  {
   "cell_type": "code",
   "execution_count": 1,
   "id": "51368905-3905-4d1f-a96e-2f014563de65",
   "metadata": {},
   "outputs": [
    {
     "name": "stdout",
     "output_type": "stream",
     "text": [
      "0.8475\n"
     ]
    }
   ],
   "source": [
    "text = \"X-DSPAM-Confidence: 0.8475\"\n",
    "\n",
    "#use find() and locate index of '0' in 0.8475\n",
    "\n",
    "s_index = text.find('0') #create var s_index = text.find('0')\n",
    "\n",
    "e_index = len(text) #create var e_index = len(text) -> length of text\n",
    "\n",
    "#slice the string using indexes\n",
    "number_extract = text[s_index:e_index] #extract = text[start:end]\n",
    "number = float(number_extract) #convert number to float:\n",
    "\n",
    "print(number)"
   ]
  },
  {
   "cell_type": "code",
   "execution_count": null,
   "id": "0fccb809-3e42-4efe-af2a-8cd706a62b96",
   "metadata": {},
   "outputs": [],
   "source": []
  }
 ],
 "metadata": {
  "kernelspec": {
   "display_name": "Python 3 (ipykernel)",
   "language": "python",
   "name": "python3"
  },
  "language_info": {
   "codemirror_mode": {
    "name": "ipython",
    "version": 3
   },
   "file_extension": ".py",
   "mimetype": "text/x-python",
   "name": "python",
   "nbconvert_exporter": "python",
   "pygments_lexer": "ipython3",
   "version": "3.8.10"
  }
 },
 "nbformat": 4,
 "nbformat_minor": 5
}
