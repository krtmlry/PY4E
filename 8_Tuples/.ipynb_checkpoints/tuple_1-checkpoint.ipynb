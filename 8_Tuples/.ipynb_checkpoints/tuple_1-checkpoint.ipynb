{
 "cells": [
  {
   "cell_type": "markdown",
   "id": "4e45e91d-dc35-4dca-84f5-e08f362897d0",
   "metadata": {},
   "source": [
    "# Instructions\n",
    "Write a program to read through the mbox-short.txt and figure out the distribution by hour of the day for each of the messages. You can pull the hour out from the 'From ' line by finding the time and then splitting the string a second time using a colon.\r\n",
    "From stephen.marquard@uct.ac.za Sat Jan  5 09:14:16 2008\r\n",
    "Once you have accumulated the counts for each hour, print out the counts, sorted by hour as shown below."
   ]
  },
  {
   "cell_type": "markdown",
   "id": "d96365d1-4dc3-4961-b575-0cdf7269975d",
   "metadata": {},
   "source": [
    "### Solution 1"
   ]
  },
  {
   "cell_type": "code",
   "execution_count": null,
   "id": "d70f67ce-333b-44d2-adf4-6cc21514928f",
   "metadata": {},
   "outputs": [],
   "source": [
    "file = open(\"mbox-short.txt\")\n",
    "\n",
    "tup_data = []\n",
    "count_pairs = []\n",
    "\n",
    "#retrieve the line and hour\n",
    "for line in file:\n",
    "    if line.startswith(\"From \"):\n",
    "        time = line.split()[5] #09:24:13 => Return type= list\n",
    "        hour = time.split(\":\")[0] #(\"09\",\"24\",\"13\")\n",
    "        tup_data.append(hour)\n",
    "\n",
    "#append and sort data\n",
    "for nums in sorted(set(tup_data)):\n",
    "    num_count = tup_data.count(nums)\n",
    "    str_num_count = str(num_count)\n",
    "    count_pairs.append((nums, num_count))\n",
    "\n",
    "#iterate and print all pairs\n",
    "for num in count_pairs:\n",
    "    print(f\"{num[0]} {num[1]}\")\n",
    "# print(count_pairs)"
   ]
  },
  {
   "cell_type": "markdown",
   "id": "691e076a-20e3-406d-ab72-4bd276dd0a48",
   "metadata": {},
   "source": [
    "### Solution 2: Using dictionaries"
   ]
  },
  {
   "cell_type": "code",
   "execution_count": null,
   "id": "462ccf07-3d2d-4e9c-ba8c-5379e7d3f428",
   "metadata": {},
   "outputs": [],
   "source": [
    "file = open(\"mbox-short.txt\")\n",
    "\n",
    "counts = dict()\n",
    "\n",
    "for line in file:\n",
    "    if line.startswith(\"From \"):\n",
    "        data = line.split() #split line that starts with \"From\" into individual items in a list\n",
    "        time = data[5] #retrieve index 5 which is the time ex. 09:12:13\n",
    "        hour = time[0:2] #retrieve hour value. 09:12:13 = 0 = 0, 9 = 1, : = 2,\n",
    "        counts[hour] = counts.get(hour, 0) + 1 #updates the dictionary: counts[hour] as the key and get(hour, 0) is the value\n",
    "        # print(f\"{hour}\")\n",
    "for key, val in sorted(counts.items()):\n",
    "    print(key, val)"
   ]
  }
 ],
 "metadata": {
  "kernelspec": {
   "display_name": "Python 3 (ipykernel)",
   "language": "python",
   "name": "python3"
  },
  "language_info": {
   "codemirror_mode": {
    "name": "ipython",
    "version": 3
   },
   "file_extension": ".py",
   "mimetype": "text/x-python",
   "name": "python",
   "nbconvert_exporter": "python",
   "pygments_lexer": "ipython3",
   "version": "3.8.10"
  }
 },
 "nbformat": 4,
 "nbformat_minor": 5
}
