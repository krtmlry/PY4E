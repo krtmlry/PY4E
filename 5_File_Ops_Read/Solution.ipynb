{
 "cells": [
  {
   "cell_type": "markdown",
   "id": "898975cb-e7a1-407c-bf5f-abb1fe282205",
   "metadata": {},
   "source": [
    "# Instructions\n",
    "Write a program that prompts for a file name, then opens that file and reads through the file, looking for lines of the form:\r\n",
    "X-DSPAM-Confidence:    0.8475\r\n",
    "Count these lines and extract the floating point values from each of the lines and compute the average of those values and produce an output as shown below. Do not use the sum() function or a variable named sum in your solution.\r\n",
    "You can download the sample data at http://www.py4e.com/code3/mbox-short.txt when you are testing below enter mbox-short.txt as the file name."
   ]
  },
  {
   "cell_type": "markdown",
   "id": "b764ea57-4afb-4ef8-8231-1aec11b27bea",
   "metadata": {},
   "source": [
    "Desired output: Average spam confidence: 0.7507185185185187"
   ]
  },
  {
   "cell_type": "code",
   "execution_count": 1,
   "id": "79f9329f-9091-4fa8-a968-eef9072ca572",
   "metadata": {},
   "outputs": [
    {
     "name": "stdout",
     "output_type": "stream",
     "text": [
      "Average spam confidence: 0.7507185185185187\n"
     ]
    }
   ],
   "source": [
    "# file = open(input(\"File name: \"))\n",
    "file = open(\"mbox-short.txt\")\n",
    "count = 0\n",
    "total = 0\n",
    "numbers = []\n",
    "\n",
    "for line in file:\n",
    "    if line.startswith(\"X-DSPAM-Confidence:\"):\n",
    "        start_index = line.find('0')\n",
    "        end_index = len(line)\n",
    "        nums = float(line[start_index:end_index]) #to get the numbers in each line\n",
    "        numbers.append(nums)\n",
    "        \n",
    "        count = count + 1\n",
    "        # total = total + nums\n",
    "        total += nums\n",
    "\n",
    "average = sum(numbers) / len(numbers)\n",
    "print('Average spam confidence:',average)"
   ]
  },
  {
   "cell_type": "code",
   "execution_count": null,
   "id": "814012d6-35dc-419a-8a4a-cf4775cb1d0d",
   "metadata": {},
   "outputs": [],
   "source": []
  }
 ],
 "metadata": {
  "kernelspec": {
   "display_name": "Python 3 (ipykernel)",
   "language": "python",
   "name": "python3"
  },
  "language_info": {
   "codemirror_mode": {
    "name": "ipython",
    "version": 3
   },
   "file_extension": ".py",
   "mimetype": "text/x-python",
   "name": "python",
   "nbconvert_exporter": "python",
   "pygments_lexer": "ipython3",
   "version": "3.8.10"
  }
 },
 "nbformat": 4,
 "nbformat_minor": 5
}
