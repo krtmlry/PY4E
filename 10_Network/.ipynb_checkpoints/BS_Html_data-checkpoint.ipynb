{
 "cells": [
  {
   "cell_type": "markdown",
   "id": "a733f483-5926-4c67-bf5c-533995288bb4",
   "metadata": {},
   "source": [
    "**Scraping Numbers from HTML using BeautifulSoup** In this assignment you will write a Python program similar to [http://www.py4e.com/code3/urllink2.py](https://www.py4e.com/code3/urllink2.py?PHPSESSID=99be69ce3ef492acbc76749042b92b6f). The program will use **urllib** to read the HTML from the data files below, and parse the data, extracting numbers and compute the sum of the numbers in the file.\r\n",
    "\r\n",
    "We provide two files for this assignment. One is a sample file where we give you the sum for your testing and the other is the actual data you need to process for the assignment.\r\n",
    "\r\n",
    "- Sample data: http://py4e-data.dr-chuck.net/comments_42.html (Sum=2553)\r\n",
    "- Actual data: http://py4e-data.dr-chuck.net/comments_1724751.html (Sum ends with 76)\r\n",
    "\r\n",
    "You do not need to save these files to your folder since your program will read the data directly from the URL."
   ]
  },
  {
   "cell_type": "markdown",
   "id": "fb7d7070-b204-498a-b2f6-651f6da92c44",
   "metadata": {},
   "source": [
    "**Note:**\r\n",
    "\r\n",
    "Each student will have a distinct data url for the assignment - so only use your own data url for analysis.\r\n",
    "\r\n",
    "**Data Format**\r\n",
    "\r\n",
    "The file is a table of names and comment counts. You can ignore most of the data in the file except for lines like the following:"
   ]
  },
  {
   "cell_type": "code",
   "execution_count": null,
   "id": "aaea49b8-02a2-4596-b5e2-7e501101efeb",
   "metadata": {},
   "outputs": [],
   "source": [
    "<tr><td>Modu</td><td><span class=\"comments\">90</span></td></tr>\n",
    "<tr><td>Kenzie</td><td><span class=\"comments\">88</span></td></tr>\n",
    "<tr><td>Hubert</td><td><span class=\"comments\">87</span></td></tr>"
   ]
  },
  {
   "cell_type": "markdown",
   "id": "32879ae0-3ee6-42a3-895a-e7d9d88d9c9e",
   "metadata": {},
   "source": [
    "You are to find all the <span> tags in the file and pull out the numbers from the tag and sum the numbers.\r\n",
    "\r\n",
    "Look at the [sample code](https://www.py4e.com/code3/urllink2.py?PHPSESSID=99be69ce3ef492acbc76749042b92b6f) provided. It shows how to find all of a certain kind of tag, loop through the tags and extract the various aspects of the tags."
   ]
  },
  {
   "cell_type": "code",
   "execution_count": null,
   "id": "453d4b86-5c23-44f4-b673-ec7b754637f5",
   "metadata": {},
   "outputs": [],
   "source": [
    "# Retrieve all of the anchor tags\n",
    "tags = soup('a')\n",
    "for tag in tags:\n",
    "   # Look at the parts of a tag\n",
    "   print 'TAG:',tag\n",
    "   print 'URL:',tag.get('href', None)\n",
    "   print 'Contents:',tag.contents[0]\n",
    "   print 'Attrs:',tag.attrs"
   ]
  },
  {
   "cell_type": "raw",
   "id": "9fc888ee-c96b-4b82-836a-a48053d6f375",
   "metadata": {},
   "source": [
    "You need to adjust this code to look for <span>\n",
    "tags and pull out the text content of the span tag, convert them to integers and add them up to complete the assignment."
   ]
  },
  {
   "cell_type": "code",
   "execution_count": null,
   "id": "bc9297ab-32bf-4d9c-a183-c127c8e7a4dd",
   "metadata": {},
   "outputs": [],
   "source": [
    "Sample:\n",
    "$ python3 solution.py\n",
    "Enter - http://py4e-data.dr-chuck.net/comments_42.html\n",
    "Count 50\n",
    "Sum 2..."
   ]
  },
  {
   "cell_type": "markdown",
   "id": "d290f499-a1f1-4811-ba8c-5f661f02ef77",
   "metadata": {},
   "source": [
    "### Solution"
   ]
  },
  {
   "cell_type": "code",
   "execution_count": null,
   "id": "de89d650-e7af-4bf1-b8fb-b5a03417b16b",
   "metadata": {},
   "outputs": [],
   "source": [
    "import urllib.request, urllib.parse, urllib.error\n",
    "from bs4 import BeautifulSoup\n",
    "\n",
    "url = \"https://py4e-data.dr-chuck.net/comments_1724751.html\"\n",
    "html = urllib.request.urlopen(url).read()\n",
    "soup = BeautifulSoup(html, 'html.parser')\n",
    "\n",
    "data = soup('span')\n",
    "digits = []\n",
    "for span in data:\n",
    "    strnum = span.text\n",
    "    num = int(strnum)\n",
    "    digits.append(num)\n",
    "print(sum(digits))"
   ]
  },
  {
   "cell_type": "code",
   "execution_count": null,
   "id": "2650c508-fb4d-43fa-9b25-be9b3b5015dc",
   "metadata": {},
   "outputs": [],
   "source": []
  }
 ],
 "metadata": {
  "kernelspec": {
   "display_name": "Python 3 (ipykernel)",
   "language": "python",
   "name": "python3"
  },
  "language_info": {
   "codemirror_mode": {
    "name": "ipython",
    "version": 3
   },
   "file_extension": ".py",
   "mimetype": "text/x-python",
   "name": "python",
   "nbconvert_exporter": "python",
   "pygments_lexer": "ipython3",
   "version": "3.8.10"
  }
 },
 "nbformat": 4,
 "nbformat_minor": 5
}
