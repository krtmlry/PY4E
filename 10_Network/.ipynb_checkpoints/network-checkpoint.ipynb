{
 "cells": [
  {
   "cell_type": "markdown",
   "id": "61d5abaa-002a-4c5a-873c-4baa3d4ff1f2",
   "metadata": {},
   "source": [
    "# Instructions\n",
    "Exploring the HyperText Transport Protocol\r\n",
    "\r\n",
    "You are to retrieve the following document using the HTTP protocol in a way that you can examine the HTTP Response headers.\r\n",
    "\r\n",
    "http://data.pr4e.org/intro-short.txt\r\n",
    "There are three ways that you might retrieve this web page and look at the response headers:\r\n",
    "\r\n",
    "Preferred: Modify the [socket1.py](http://socket1.py/) program to retrieve the above URL and print out the headers and data. Make sure to change the code to retrieve the above URL - the values are different for each URL.\r\n",
    "Open the URL in a web browser with a developer console or FireBug and manually examine the headers that are returned.\r\n",
    "Enter the header values in each of the fields below and press \"Submit\".\r\n",
    "\r\n",
    "Last-Modified:\r\n",
    "ETag:\r\n",
    "Content-Length:\r\n",
    "Cache-Control:\r\n",
    "Content-Type:"
   ]
  },
  {
   "cell_type": "code",
   "execution_count": null,
   "id": "429d28f6-7c11-4e9b-86bf-0ccc4a84eddb",
   "metadata": {},
   "outputs": [],
   "source": [
    "import socket\n",
    "mysock = socket.socket(socket.AF_INET, socket.SOCK_STREAM)\n",
    "mysock.connect(('data.pr4e.org',80))\n",
    "cmd = 'GET http://data.pr4e.org/intro-short.txt HTTP/1.0\\r\\n\\r\\n'.encode()\n",
    "mysock.send(cmd)\n",
    "\n",
    "while True:\n",
    "    data = mysock.recv(512)\n",
    "    if (len(data) < 1):\n",
    "        break\n",
    "    print(data.decode(), end='')\n",
    "    # print(data)\n",
    "mysock.close()"
   ]
  }
 ],
 "metadata": {
  "kernelspec": {
   "display_name": "Python 3 (ipykernel)",
   "language": "python",
   "name": "python3"
  },
  "language_info": {
   "codemirror_mode": {
    "name": "ipython",
    "version": 3
   },
   "file_extension": ".py",
   "mimetype": "text/x-python",
   "name": "python",
   "nbconvert_exporter": "python",
   "pygments_lexer": "ipython3",
   "version": "3.8.10"
  }
 },
 "nbformat": 4,
 "nbformat_minor": 5
}
