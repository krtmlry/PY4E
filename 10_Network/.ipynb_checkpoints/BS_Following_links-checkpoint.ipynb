{
 "cells": [
  {
   "cell_type": "markdown",
   "id": "ea510e0b-c436-44be-869a-916886127e62",
   "metadata": {},
   "source": [
    "# Instructions\r\n",
    "\r\n",
    "Problem:\r\n",
    "Following Links in Python\r\n",
    "\r\n",
    "In this assignment you will write a Python program that expands on http://www.py4e.com/code3/urllinks.py. The program will use urllib to read the HTML from the data files below, extract the href= vaues from the anchor tags, scan for a tag that is in a particular position relative to the first name in the list, follow that link and repeat the process a number of times and report the last name you find.\r\n",
    "\r\n",
    "We provide two files for this assignment. One is a sample file where we give you the name for your testing and the other is the actual data you need to process for the assignment\r\n",
    "\r\n",
    "- Sample problem: Start at http://py4e-data.dr-chuck.net/known_by_Fikret.html\r\n",
    "Find the link at position 3 (the first name is 1). Follow that link. Repeat this process 4 times. The answer is the last name that you retrieve.\r\n",
    "Sequence of names: Fikret Montgomery Mhairade Butchi Anayah\r\n",
    "Last name in sequence: Anayah\r\n",
    "- Actual problem: Start at: http://py4e-data.dr-chuck.net/known_by_Athena.html\r\n",
    "Find the link at position 18 (the first name is 1). Follow that link. Repeat this process 7 times. The answer is the last name that you retrieve.\r\n",
    "Hint: The first character of the name of the last page that you will load is: L"
   ]
  },
  {
   "cell_type": "markdown",
   "id": "46960d11-8bd5-4af7-b43e-4823b46f8a08",
   "metadata": {},
   "source": [
    "### Solution"
   ]
  },
  {
   "cell_type": "code",
   "execution_count": null,
   "id": "8b4869e5-7274-4c1a-b408-1f47f0ed2b65",
   "metadata": {},
   "outputs": [],
   "source": [
    "import urllib.request, urllib.parse, urllib.error\n",
    "from bs4 import BeautifulSoup\n",
    "import ssl\n",
    "\n",
    "# Ignore SSL certificate errors\n",
    "ctx = ssl.create_default_context()\n",
    "ctx.check_hostname = False\n",
    "ctx.verify_mode = ssl.CERT_NONE\n",
    "\n",
    "url = 'http://py4e-data.dr-chuck.net/known_by_Athena.html'\n",
    "html = urllib.request.urlopen(url, context=ctx).read()\n",
    "soup = BeautifulSoup(html, 'html.parser')\n",
    "repeat = 1\n",
    "count = 17\n",
    "\n",
    "print(\"Retrieving:\", url)\n",
    "while repeat <= 7:\n",
    "    tags = soup('a')\n",
    "    link_1 = [tag.get('href', None) for tag in tags] # retrieve links and place in list link_1 = []\n",
    "\n",
    "    url2 = link_1[count] # get 18th item using index[17]\n",
    "    html = urllib.request.urlopen(url2, context=ctx).read()\n",
    "    soup = BeautifulSoup(html, 'html.parser')\n",
    "    #print(link_1[2])\n",
    "    print(\"Retrieving:\", url2)\n",
    "    \n",
    "    if repeat == 7:\n",
    "        break\n",
    "    repeat += 1"
   ]
  },
  {
   "cell_type": "code",
   "execution_count": null,
   "id": "67dc561e-1770-4b9f-bd23-85a6f61a2692",
   "metadata": {},
   "outputs": [],
   "source": []
  }
 ],
 "metadata": {
  "kernelspec": {
   "display_name": "Python 3 (ipykernel)",
   "language": "python",
   "name": "python3"
  },
  "language_info": {
   "codemirror_mode": {
    "name": "ipython",
    "version": 3
   },
   "file_extension": ".py",
   "mimetype": "text/x-python",
   "name": "python",
   "nbconvert_exporter": "python",
   "pygments_lexer": "ipython3",
   "version": "3.8.10"
  }
 },
 "nbformat": 4,
 "nbformat_minor": 5
}
