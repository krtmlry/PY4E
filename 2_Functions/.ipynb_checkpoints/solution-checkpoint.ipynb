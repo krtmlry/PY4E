{
 "cells": [
  {
   "cell_type": "markdown",
   "id": "efc3b6c2-e54d-4214-b8b1-ce37eb57a27d",
   "metadata": {},
   "source": [
    "# Instructions\n",
    "Write a program to prompt the user for hours and rate per hour using input to compute gross pay. Pay should be the normal rate for hours up to 40 and time-and-a-half for the hourly rate for all hours worked above 40 hours. Put the logic to do the computation of pay in a function called computepay() and use the function to do the computation. The function should return a value. Use 45 hours and a rate of 10.50 per hour to test the program (the pay should be 498.75). You should use input to read a string and float() to convert the string to a number. Do not worry about error checking the user input unless you want to - you can assume the user types numbers properly. Do not name your variable sum or use the sum() function. 0.85.\r\n",
    ">"
   ]
  },
  {
   "cell_type": "code",
   "execution_count": 3,
   "id": "6ad6d27b-639f-4eeb-ad95-0f5f80851ab7",
   "metadata": {},
   "outputs": [
    {
     "name": "stdin",
     "output_type": "stream",
     "text": [
      "Enter hours:  45\n",
      "Enter rate:  10.50\n"
     ]
    },
    {
     "name": "stdout",
     "output_type": "stream",
     "text": [
      "Pay: $ 498.75\n"
     ]
    }
   ],
   "source": [
    "def computepay(work_hrs, rate):\n",
    "    if work_hrs > 40.0:\n",
    "        std_rate = 40 * rate\n",
    "        ot_rate = (work_hrs-40) * (rate*1.5)\n",
    "        total_pay = std_rate + ot_rate\n",
    "    else:\n",
    "        total_pay = work_hrs * rate\n",
    "    return total_pay \n",
    "\n",
    "work_hrs = float(input(\"Enter hours: \"))\n",
    "rate = float(input(\"Enter rate: \"))\n",
    "total_pay = computepay(work_hrs, rate)\n",
    "print(\"Pay:\", \"$\", total_pay)"
   ]
  },
  {
   "cell_type": "code",
   "execution_count": null,
   "id": "34ccf387-85d2-45a9-b7d3-ced1eab2fdaf",
   "metadata": {},
   "outputs": [],
   "source": []
  }
 ],
 "metadata": {
  "kernelspec": {
   "display_name": "Python 3 (ipykernel)",
   "language": "python",
   "name": "python3"
  },
  "language_info": {
   "codemirror_mode": {
    "name": "ipython",
    "version": 3
   },
   "file_extension": ".py",
   "mimetype": "text/x-python",
   "name": "python",
   "nbconvert_exporter": "python",
   "pygments_lexer": "ipython3",
   "version": "3.8.10"
  }
 },
 "nbformat": 4,
 "nbformat_minor": 5
}
