{
 "cells": [
  {
   "cell_type": "markdown",
   "id": "19bf57bd-0734-4760-a8d0-7822f2befd2e",
   "metadata": {},
   "source": [
    "# Dictionary using dictionaryapi.dev free api\n",
    "\n",
    "This cli based dictionary can only display the topmost definition from the api and\n",
    "some words are also not available.\n"
   ]
  },
  {
   "cell_type": "code",
   "execution_count": 8,
   "id": "98343c11-6fd4-40d6-b8a4-88c321c1dcea",
   "metadata": {},
   "outputs": [
    {
     "name": "stdout",
     "output_type": "stream",
     "text": [
      "Simple dictionary using dictionaryapi.dev\n",
      "\n"
     ]
    },
    {
     "name": "stdin",
     "output_type": "stream",
     "text": [
      "Enter word (type yy to exit): square\n"
     ]
    },
    {
     "name": "stdout",
     "output_type": "stream",
     "text": [
      "Definition:\n",
      "'Square' - A polygon with four sides of equal length and four right angles; an equilateral rectangle; a regular quadrilateral.\n",
      "\n"
     ]
    },
    {
     "name": "stdin",
     "output_type": "stream",
     "text": [
      "Enter a new word? y/n:  yy\n"
     ]
    },
    {
     "name": "stdout",
     "output_type": "stream",
     "text": [
      "Exiting program...\n"
     ]
    }
   ],
   "source": [
    "import requests\n",
    "import json\n",
    "\n",
    "print(\"Simple dictionary using dictionaryapi.dev\\n\")\n",
    "\n",
    "def get_word():\n",
    "    word = input('Enter word (type yy to exit):').lower()\n",
    "    if word == 'yy':\n",
    "        print('Exiting program...')\n",
    "        pass\n",
    "    else:\n",
    "        return word\n",
    "\n",
    "def get_definitions(word): #only limited to top most / first definition\n",
    "    url = 'https://api.dictionaryapi.dev/api/v2/entries/en/' + word\n",
    "    req = requests.get(url)\n",
    "    data = json.loads(req.text)\n",
    "    \n",
    "    if isinstance(data, dict): #since the api returns a dict type for error\n",
    "        print(f\"\\nApologies, '{word}' is not available in our system.\\n\")\n",
    "        main() #call main function to restart program\n",
    "    if isinstance(data, list):\n",
    "        get_def = data[0]['meanings'][0]['definitions'][0]['definition']\n",
    "        return get_def\n",
    "\n",
    "def print_outputs(word, get_def):\n",
    "    print(f\"Definition:\\n'{word.capitalize()}' - {get_def}\\n\")\n",
    "\n",
    "def valid_action():\n",
    "    action = input('Enter a new word? y/n: ').upper()\n",
    "    return action == 'Y' #forced declaration action = 'Y'\n",
    "\n",
    "def main():\n",
    "    while True:\n",
    "        word = get_word()\n",
    "        if not word:\n",
    "            break\n",
    "        \n",
    "        get_def = get_definitions(word)\n",
    "        print_outputs(word, get_def)\n",
    "        \n",
    "        if not valid_action():\n",
    "            print('Exiting program...')\n",
    "            break\n",
    "\n",
    "if __name__ == \"__main__\":\n",
    "    main()\n"
   ]
  },
  {
   "cell_type": "code",
   "execution_count": null,
   "id": "41b38206-0e0e-45f9-8fa3-11cb051b5472",
   "metadata": {},
   "outputs": [],
   "source": []
  }
 ],
 "metadata": {
  "kernelspec": {
   "display_name": "Python 3 (ipykernel)",
   "language": "python",
   "name": "python3"
  },
  "language_info": {
   "codemirror_mode": {
    "name": "ipython",
    "version": 3
   },
   "file_extension": ".py",
   "mimetype": "text/x-python",
   "name": "python",
   "nbconvert_exporter": "python",
   "pygments_lexer": "ipython3",
   "version": "3.8.10"
  }
 },
 "nbformat": 4,
 "nbformat_minor": 5
}
