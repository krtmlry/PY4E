{
 "cells": [
  {
   "cell_type": "markdown",
   "id": "19bf57bd-0734-4760-a8d0-7822f2befd2e",
   "metadata": {},
   "source": [
    "# Dictionary using dictionaryapi.dev free api\n",
    "\n",
    "- This cli based dictionary retrieves definition of words from dictionaryapi.dev\n",
    "- The api is limited and there are words that are not available for retrieval.\n",
    "- The definitions given are only limited to the first or top most definition on the JSON response.\n"
   ]
  },
  {
   "cell_type": "code",
   "execution_count": 2,
   "id": "41b38206-0e0e-45f9-8fa3-11cb051b5472",
   "metadata": {},
   "outputs": [
    {
     "name": "stdout",
     "output_type": "stream",
     "text": [
      "Simple dictionary using dictionaryapi.dev\n"
     ]
    },
    {
     "name": "stdin",
     "output_type": "stream",
     "text": [
      "\n",
      "Enter word (type yy to exit): Star\n"
     ]
    },
    {
     "name": "stdout",
     "output_type": "stream",
     "text": [
      "Definition:\n",
      "'Star' - Any small luminous dot appearing in the cloudless portion of the night sky, especially with a fixed location relative to other such dots.\n",
      "\n"
     ]
    },
    {
     "name": "stdin",
     "output_type": "stream",
     "text": [
      "Enter a new word? y/n: y\n",
      "\n",
      "Enter word (type yy to exit): Saturn\n"
     ]
    },
    {
     "name": "stdout",
     "output_type": "stream",
     "text": [
      "\n",
      "Apologies, 'saturn' is not available in our system.\n",
      "\n"
     ]
    },
    {
     "name": "stdin",
     "output_type": "stream",
     "text": [
      "Enter a new word? y/n: y\n",
      "\n",
      "Enter word (type yy to exit): yy\n"
     ]
    },
    {
     "name": "stdout",
     "output_type": "stream",
     "text": [
      "Exiting program...\n"
     ]
    }
   ],
   "source": [
    "import requests\n",
    "import json\n",
    "\n",
    "print(\"Simple dictionary using dictionaryapi.dev\")\n",
    "\n",
    "def get_word():\n",
    "    word = input('\\nEnter word (type yy to exit):').lower()\n",
    "    if word == 'yy':\n",
    "        print('Exiting program...')\n",
    "        pass\n",
    "    else:\n",
    "        return word\n",
    "\n",
    "def get_definitions(word): #only limited to top most / first definition\n",
    "    url = 'https://api.dictionaryapi.dev/api/v2/entries/en/' + word\n",
    "    req = requests.get(url)\n",
    "    data = json.loads(req.text)\n",
    "    \n",
    "    if isinstance(data, dict): #to check if response is dict or list, since the api returns a dict type for error\n",
    "        print(f\"\\nApologies, '{word}' is not available in our system.\\n\")\n",
    "        return None\n",
    "        \n",
    "    if isinstance(data, list):\n",
    "        get_def = data[0]['meanings'][0]['definitions'][0]['definition']\n",
    "        return get_def\n",
    "\n",
    "def print_outputs(word, get_def):\n",
    "    print(f\"Definition:\\n'{word.capitalize()}' - {get_def}\\n\")\n",
    "\n",
    "def valid_action():\n",
    "    while True:\n",
    "        action = input('Enter a new word? y/n:').upper()\n",
    "        if action == 'Y' or action == 'N':\n",
    "            return action == 'Y' #forced declaration, action = 'Y'\n",
    "        else:\n",
    "            print('Invalid input. Only Y or N is accepted.\\n')\n",
    "\n",
    "def main():\n",
    "    while True:\n",
    "        word = get_word()\n",
    "        if not word:\n",
    "            break\n",
    "\n",
    "        get_def = get_definitions(word)\n",
    "        \n",
    "        if get_def is not None:\n",
    "            print_outputs(word, get_def)\n",
    "        \n",
    "        if not valid_action():\n",
    "            print('Exiting program...')\n",
    "            break\n",
    "\n",
    "if __name__ == \"__main__\":\n",
    "    main()"
   ]
  },
  {
   "cell_type": "code",
   "execution_count": null,
   "id": "090178c9-93e2-4e74-9e1c-572f54d32eb8",
   "metadata": {},
   "outputs": [],
   "source": []
  }
 ],
 "metadata": {
  "kernelspec": {
   "display_name": "Python 3 (ipykernel)",
   "language": "python",
   "name": "python3"
  },
  "language_info": {
   "codemirror_mode": {
    "name": "ipython",
    "version": 3
   },
   "file_extension": ".py",
   "mimetype": "text/x-python",
   "name": "python",
   "nbconvert_exporter": "python",
   "pygments_lexer": "ipython3",
   "version": "3.8.10"
  }
 },
 "nbformat": 4,
 "nbformat_minor": 5
}
