{
 "cells": [
  {
   "cell_type": "markdown",
   "id": "e52771d7-97b6-471a-bcd1-543b4ffe9111",
   "metadata": {},
   "source": [
    "# Instructions\n",
    "Write a program that repeatedly prompts a user for integer numbers until the user enters 'done'.\r\n",
    "Once 'done' is entered, print out the largest and smallest of the numbers.\r\n",
    "If the user enters anything other than a valid number catch it with a try/except and put out an appropriate message and ignore the number.\r\n",
    "Enter 7, 2, bob, 10, and 4 and match the output below."
   ]
  },
  {
   "cell_type": "markdown",
   "id": "e7aa50f2-738d-4581-bd6c-1182377011e3",
   "metadata": {},
   "source": [
    "### Solution 1: Prints error message for every invalid input"
   ]
  },
  {
   "cell_type": "code",
   "execution_count": 1,
   "id": "b05cc63b-ad40-4fa8-9dab-4474758a3f6a",
   "metadata": {},
   "outputs": [
    {
     "name": "stdin",
     "output_type": "stream",
     "text": [
      "Enter a number:  1\n",
      "Enter a number:  2\n",
      "Enter a number:  a\n"
     ]
    },
    {
     "name": "stdout",
     "output_type": "stream",
     "text": [
      "Invalid input\n"
     ]
    },
    {
     "name": "stdin",
     "output_type": "stream",
     "text": [
      "Enter a number:  b\n"
     ]
    },
    {
     "name": "stdout",
     "output_type": "stream",
     "text": [
      "Invalid input\n"
     ]
    },
    {
     "name": "stdin",
     "output_type": "stream",
     "text": [
      "Enter a number:  done\n"
     ]
    },
    {
     "name": "stdout",
     "output_type": "stream",
     "text": [
      "Maximum is 2\n",
      "Minimum is 1\n",
      "Invalid inputs: ['a', 'b']\n"
     ]
    }
   ],
   "source": [
    "numlist = []\n",
    "invalid_inputs = []\n",
    "\n",
    "while True:\n",
    "    user_input = input(\"Enter a number: \")\n",
    "    \n",
    "    if user_input.lower() == 'done':\n",
    "        break\n",
    "\n",
    "    try:\n",
    "        num = int(user_input)\n",
    "        numlist.append(num)\n",
    "    except:\n",
    "        invalid_inputs.append(user_input)\n",
    "        print(\"Invalid input\")\n",
    "        continue\n",
    "\n",
    "if len(numlist) > 0:\n",
    "    print(f\"Maximum is {max(numlist)}\")\n",
    "    print(f\"Minimum is {min(numlist)}\")\n",
    "    print(f\"Invalid inputs: {invalid_inputs}\")\n",
    "else:\n",
    "    print(\"No numbers were entered.\")\n",
    "    print(f\"Invalid inputs: {invalid_inputs} \")"
   ]
  },
  {
   "cell_type": "markdown",
   "id": "6fb2556b-fe18-4af2-9b22-d4f19c7bab2b",
   "metadata": {},
   "source": [
    "### Solution 2: Does not print the error message during input"
   ]
  },
  {
   "cell_type": "code",
   "execution_count": 2,
   "id": "c058bc28-d11d-4166-9f56-a64ea8f131b8",
   "metadata": {},
   "outputs": [
    {
     "name": "stdin",
     "output_type": "stream",
     "text": [
      "Enter a number:  1\n",
      "Enter a number:  2\n",
      "Enter a number:  a\n",
      "Enter a number:  b\n",
      "Enter a number:  done\n"
     ]
    },
    {
     "name": "stdout",
     "output_type": "stream",
     "text": [
      "Maximum is 2\n",
      "Minimum is 1\n",
      "Invalid inputs: ['a', 'b']\n"
     ]
    }
   ],
   "source": [
    "numlist = []\n",
    "invalid_inputs = []\n",
    "\n",
    "while True:\n",
    "\n",
    "    user_input = input(\"Enter a number: \")\n",
    "    \n",
    "    if user_input == 'done':\n",
    "        break\n",
    "    try:\n",
    "        num = int(user_input)\n",
    "        numlist.append(num)\n",
    "    except:\n",
    "        invalid_inputs.append(user_input)\n",
    "        # continue\n",
    "\n",
    "#if len(numlist) > 0: #to check if there were numbers added into the list\n",
    "if len(numlist) > 0:\n",
    "    print(f\"Maximum is {max(numlist)}\")\n",
    "    print(f\"Minimum is {min(numlist)}\")\n",
    "else:\n",
    "    print(\"No numbers were entered.\")\n",
    "\n",
    "if len(invalid_inputs) > 0:\n",
    "    print(f\"Invalid inputs: {invalid_inputs}\")"
   ]
  },
  {
   "cell_type": "code",
   "execution_count": null,
   "id": "09c231bd-412c-4929-ac31-ce7357dff43e",
   "metadata": {},
   "outputs": [],
   "source": []
  }
 ],
 "metadata": {
  "kernelspec": {
   "display_name": "Python 3 (ipykernel)",
   "language": "python",
   "name": "python3"
  },
  "language_info": {
   "codemirror_mode": {
    "name": "ipython",
    "version": 3
   },
   "file_extension": ".py",
   "mimetype": "text/x-python",
   "name": "python",
   "nbconvert_exporter": "python",
   "pygments_lexer": "ipython3",
   "version": "3.8.10"
  }
 },
 "nbformat": 4,
 "nbformat_minor": 5
}
